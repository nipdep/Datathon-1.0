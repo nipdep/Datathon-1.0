{
 "metadata": {
  "language_info": {
   "codemirror_mode": {
    "name": "ipython",
    "version": 3
   },
   "file_extension": ".py",
   "mimetype": "text/x-python",
   "name": "python",
   "nbconvert_exporter": "python",
   "pygments_lexer": "ipython3",
   "version": "3.7.7-final"
  },
  "orig_nbformat": 2,
  "kernelspec": {
   "name": "python3",
   "display_name": "Python 3",
   "language": "python"
  }
 },
 "nbformat": 4,
 "nbformat_minor": 2,
 "cells": [
  {
   "source": [
    "## Generate predictions under :\n",
    " - district\n",
    " - province\n",
    " - age group\n",
    " - profession\n",
    " "
   ],
   "cell_type": "markdown",
   "metadata": {}
  },
  {
   "cell_type": "code",
   "execution_count": 18,
   "metadata": {},
   "outputs": [],
   "source": [
    "import numpy as np \n",
    "import pandas as pd \n",
    "import sklearn\n",
    "import pickle"
   ]
  },
  {
   "source": [
    "_general test data pre-processing_"
   ],
   "cell_type": "markdown",
   "metadata": {}
  },
  {
   "cell_type": "code",
   "execution_count": 19,
   "metadata": {},
   "outputs": [],
   "source": [
    "minmax_scaler = pickle.load(open('../../../data/models/minMax_lsmt_1.pkl', 'rb'))"
   ]
  },
  {
   "cell_type": "code",
   "execution_count": 20,
   "metadata": {},
   "outputs": [],
   "source": [
    "test_df = pd.read_csv('../../../data/main_data/final_test.csv')\n",
    "test_df.sort_values(by=['index','formal_date'], inplace=True)\n",
    "uniq_dist = test_df['index'].unique().tolist()\n",
    "num_dists = len(uniq_dist)\n"
   ]
  },
  {
   "cell_type": "code",
   "execution_count": 21,
   "metadata": {},
   "outputs": [],
   "source": [
    "dist_df_list = []\n",
    "for i in uniq_dist:\n",
    "    sub_df = test_df.loc[test_df['index'] == i, :]\n",
    "    dist_df_list.append(sub_df)"
   ]
  },
  {
   "cell_type": "code",
   "execution_count": 22,
   "metadata": {},
   "outputs": [],
   "source": [
    "def series_to_supervised(data, n_in=1, n_out=1, dropnan=True):\n",
    "\tn_vars = 1 if type(data) is list else data.shape[1]\n",
    "\tdf = pd.DataFrame(data)\n",
    "\tcols, names = list(), list()\n",
    "\t# input sequence (t-n, ... t-1)\n",
    "\tfor i in range(n_in, 0, -1):\n",
    "\t\tcols.append(df.shift(i))\n",
    "\t\tnames += [('var%d(t-%d)' % (j+1, i)) for j in range(n_vars)]\n",
    "\t# forecast sequence (t, t+1, ... t+n)\n",
    "\tfor i in range(0, n_out):\n",
    "\t\tcols.append(df.shift(-i))\n",
    "\t\tif i == 0:\n",
    "\t\t\tnames += [('var%d(t)' % (j+1)) for j in range(n_vars)]\n",
    "\t\telse:\n",
    "\t\t\tnames += [('var%d(t+%d)' % (j+1, i)) for j in range(n_vars)]\n",
    "\t# put it all together\n",
    "\tagg = pd.concat(cols, axis=1)\n",
    "\tagg.columns = names\n",
    "\t# drop rows with NaN values\n",
    "\tif dropnan:\n",
    "\t\tagg.dropna(inplace=True)\n",
    "\treturn agg"
   ]
  },
  {
   "cell_type": "code",
   "execution_count": 23,
   "metadata": {},
   "outputs": [],
   "source": [
    "def preProcess(df):\n",
    "    df.drop('formal_date', axis=1, inplace=True)\n",
    "    df_value = df.values\n",
    "    df_value.astype('float32')\n",
    "    scaled_df = minmax_scaler.transform(df_value)\n",
    "    reframed_df = series_to_supervised(scaled_df, 1, 1)\n",
    "    reframed_df = reframed_df.values\n",
    "    test_X, test_y = reframed_df[:, :-1], reframed_df[:, -1]\n",
    "    test_X = test_X.reshape((test_X.shape[0], 1, test_X.shape[1]))\n",
    "    return test_X\n",
    "\n"
   ]
  },
  {
   "cell_type": "code",
   "execution_count": 24,
   "metadata": {},
   "outputs": [],
   "source": [
    "pre_processed_data = []\n",
    "for t_df in dist_df_list:\n",
    "    pre_processed_data.append(preProcess(t_df))"
   ]
  },
  {
   "source": [
    "Predicting"
   ],
   "cell_type": "markdown",
   "metadata": {}
  },
  {
   "cell_type": "code",
   "execution_count": 25,
   "metadata": {},
   "outputs": [],
   "source": [
    "from tensorflow.keras.models import load_model\n",
    "model = load_model('../../../data/models/LSTM_1.h5')"
   ]
  },
  {
   "cell_type": "code",
   "execution_count": 26,
   "metadata": {},
   "outputs": [],
   "source": [
    "yhat_list = []\n",
    "for dat in pre_processed_data:\n",
    "    yhat = model.predict(dat)\n",
    "    yhat_list.append(yhat)"
   ]
  },
  {
   "cell_type": "code",
   "execution_count": 27,
   "metadata": {},
   "outputs": [],
   "source": [
    "def inversePreProcess(yhat, test_x):\n",
    "    test_X = test_x.reshape((test_x.shape[0], test_x.shape[2]))\n",
    "    inv_yhat = np.concatenate((test_X[:, :14], yhat), axis=1)\n",
    "    inv_yhat = minmax_scaler.inverse_transform(inv_yhat)\n",
    "    inv_yhat = inv_yhat[:,-1]\n",
    "    return inv_yhat\n"
   ]
  },
  {
   "cell_type": "code",
   "execution_count": 28,
   "metadata": {},
   "outputs": [],
   "source": [
    "res_list = []\n",
    "for i in range(0,len(yhat_list)):\n",
    "    res_list.append(inversePreProcess(yhat_list[i], pre_processed_data[i]))\n"
   ]
  },
  {
   "cell_type": "code",
   "execution_count": 29,
   "metadata": {},
   "outputs": [
    {
     "output_type": "execute_result",
     "data": {
      "text/plain": [
       "[39.372662865209705,\n",
       " 35.70161458505167,\n",
       " 34.26633295205763,\n",
       " 20.34711299431779,\n",
       " 16.386532321212318,\n",
       " 11.357818235309963,\n",
       " 13.049751060968497,\n",
       " 7.136516415386911,\n",
       " 6.216467538646918,\n",
       " 4.044180359650236,\n",
       " 4.123657788966169,\n",
       " 2.123007753749371,\n",
       " 2.055596353434402,\n",
       " 2.2039295712449314,\n",
       " 2.0650322157283947,\n",
       " 1.196969569477281,\n",
       " 1.0987561372120342,\n",
       " 1.0993579857988673,\n",
       " 1.010162112293614,\n",
       " 0.12572280701648184,\n",
       " 0.06246096565158948,\n",
       " 0.05117872608715787,\n",
       " 0.05822260043749344,\n",
       " -0.0047718535598629585,\n",
       " 0.036300468457582905]"
      ]
     },
     "metadata": {},
     "execution_count": 29
    }
   ],
   "source": [
    "dist_result = [j[-1] for j in res_list]\n",
    "dist_result"
   ]
  },
  {
   "cell_type": "code",
   "execution_count": 30,
   "metadata": {},
   "outputs": [],
   "source": [
    "dist_map = {1:'Colombo', 2:'Gampaha', 3:'Kalutara',\n",
    "4:'Galle',5:'Matara',6:'Hambantota',7:'Ratnapura', 8:'Kegalle', 9:'Kandy',\n",
    "10:'NuwaraEliya', 11:'Matale', 12:'Badulla', 13:'Moneragala', 14:'Batticaloa',\n",
    "15:'Ampara', 16:'Trincomalee', 17:'Kurunegala', 18:'Puttalam', 19:'Anuradhapura',\n",
    "20:'Polonnaruwa',21:'Jaffna',22:'Vavuniya',23:'Kilinochchi',\n",
    "24:'Mannar',25:'Mulativu'}\n"
   ]
  },
  {
   "cell_type": "code",
   "execution_count": 31,
   "metadata": {},
   "outputs": [
    {
     "output_type": "execute_result",
     "data": {
      "text/plain": [
       "   District  Infected Count\n",
       "0   Colombo       39.372663\n",
       "1   Gampaha       35.701615\n",
       "2  Kalutara       34.266333\n",
       "3     Galle       20.347113\n",
       "4    Matara       16.386532"
      ],
      "text/html": "<div>\n<style scoped>\n    .dataframe tbody tr th:only-of-type {\n        vertical-align: middle;\n    }\n\n    .dataframe tbody tr th {\n        vertical-align: top;\n    }\n\n    .dataframe thead th {\n        text-align: right;\n    }\n</style>\n<table border=\"1\" class=\"dataframe\">\n  <thead>\n    <tr style=\"text-align: right;\">\n      <th></th>\n      <th>District</th>\n      <th>Infected Count</th>\n    </tr>\n  </thead>\n  <tbody>\n    <tr>\n      <th>0</th>\n      <td>Colombo</td>\n      <td>39.372663</td>\n    </tr>\n    <tr>\n      <th>1</th>\n      <td>Gampaha</td>\n      <td>35.701615</td>\n    </tr>\n    <tr>\n      <th>2</th>\n      <td>Kalutara</td>\n      <td>34.266333</td>\n    </tr>\n    <tr>\n      <th>3</th>\n      <td>Galle</td>\n      <td>20.347113</td>\n    </tr>\n    <tr>\n      <th>4</th>\n      <td>Matara</td>\n      <td>16.386532</td>\n    </tr>\n  </tbody>\n</table>\n</div>"
     },
     "metadata": {},
     "execution_count": 31
    }
   ],
   "source": [
    "dist_count_df = pd.DataFrame()\n",
    "dist_count_df['District'] = dist_map.values()\n",
    "dist_count_df['Infected Count'] = dist_result\n",
    "dist_count_df"
   ]
  },
  {
   "source": [
    "Province wise prediction"
   ],
   "cell_type": "markdown",
   "metadata": {}
  },
  {
   "cell_type": "code",
   "execution_count": 32,
   "metadata": {},
   "outputs": [],
   "source": [
    "mapping={1:[1,2,3], 2:[4,5,6], 3:[7,8], 4:[9,10,11], 5:[12,13], 6:[14,15,16], 7:[17,18], 8:[19,20], 9:[21,22,23,24,25]}\n",
    "prov = {1:'Western', 2:'Southern', 3:'Sabaragamuwa',4:'Central', 5:'Uva', 6:'Eastern', 7:'NorthWestern', 8:'NorthCentral', 9:'Nothern'}"
   ]
  },
  {
   "cell_type": "code",
   "execution_count": 33,
   "metadata": {},
   "outputs": [],
   "source": [
    "prov_cnt = []\n",
    "for i in range(1,10):\n",
    "    dist_list = mapping[i]\n",
    "    prov_sum = 0\n",
    "    for j in dist_list:\n",
    "        prov_sum+=dist_result[j-1]\n",
    "    prov_cnt.append(prov_sum)\n"
   ]
  },
  {
   "cell_type": "code",
   "execution_count": 34,
   "metadata": {},
   "outputs": [
    {
     "output_type": "execute_result",
     "data": {
      "text/plain": [
       "       District  Infected Count\n",
       "0       Western      109.340610\n",
       "1      Southern       48.091464\n",
       "2  Sabaragamuwa       20.186267\n",
       "3       Central       14.384306\n",
       "4           Uva        4.178604"
      ],
      "text/html": "<div>\n<style scoped>\n    .dataframe tbody tr th:only-of-type {\n        vertical-align: middle;\n    }\n\n    .dataframe tbody tr th {\n        vertical-align: top;\n    }\n\n    .dataframe thead th {\n        text-align: right;\n    }\n</style>\n<table border=\"1\" class=\"dataframe\">\n  <thead>\n    <tr style=\"text-align: right;\">\n      <th></th>\n      <th>District</th>\n      <th>Infected Count</th>\n    </tr>\n  </thead>\n  <tbody>\n    <tr>\n      <th>0</th>\n      <td>Western</td>\n      <td>109.340610</td>\n    </tr>\n    <tr>\n      <th>1</th>\n      <td>Southern</td>\n      <td>48.091464</td>\n    </tr>\n    <tr>\n      <th>2</th>\n      <td>Sabaragamuwa</td>\n      <td>20.186267</td>\n    </tr>\n    <tr>\n      <th>3</th>\n      <td>Central</td>\n      <td>14.384306</td>\n    </tr>\n    <tr>\n      <th>4</th>\n      <td>Uva</td>\n      <td>4.178604</td>\n    </tr>\n  </tbody>\n</table>\n</div>"
     },
     "metadata": {},
     "execution_count": 34
    }
   ],
   "source": [
    "prov_count_df = pd.DataFrame()\n",
    "prov_count_df['District'] = prov.values()\n",
    "prov_count_df['Infected Count'] = prov_cnt\n",
    "prov_count_df"
   ]
  },
  {
   "source": [
    "Age group wise prediction"
   ],
   "cell_type": "markdown",
   "metadata": {}
  },
  {
   "cell_type": "code",
   "execution_count": 36,
   "metadata": {},
   "outputs": [
    {
     "output_type": "execute_result",
     "data": {
      "text/plain": [
       "Index(['District', '0<10', '10<20', '20<40', '40<60', '60<', 'psum'], dtype='object')"
      ]
     },
     "metadata": {},
     "execution_count": 36
    }
   ],
   "source": [
    "age_df_1 = pd.read_csv('../../../data/main_data/Age_district_percentages.csv')\n",
    "age_df_1.columns\n",
    "age_df = age_df_1.iloc[:, 1:6]\n",
    "age_value = age_df.values\n",
    "\n",
    "pointer = 0\n",
    "\n",
    "def mul_prediction(row):\n",
    "    global pointer\n",
    "    x = row*dist_result[pointer]\n",
    "    pointer+=1\n",
    "    return x\n",
    "\n",
    "age_counts = np.apply_along_axis(mul_prediction, 1, age_value)"
   ]
  },
  {
   "cell_type": "code",
   "execution_count": 67,
   "metadata": {},
   "outputs": [
    {
     "output_type": "execute_result",
     "data": {
      "text/plain": [
       "       0<10     10<20     20<40     40<60       60<  District\n",
       "0  0.005302  0.005314  0.011611  0.009139  0.004934   Colombo\n",
       "1  0.005595  0.005495  0.011526  0.009025  0.004660   Gampaha\n",
       "2  0.006039  0.005483  0.010835  0.008792  0.005153  Kalutara\n",
       "3  0.006264  0.005901  0.010220  0.009006  0.004910     Kandy\n",
       "4  0.006501  0.005734  0.010433  0.009201  0.004431    Matale"
      ],
      "text/html": "<div>\n<style scoped>\n    .dataframe tbody tr th:only-of-type {\n        vertical-align: middle;\n    }\n\n    .dataframe tbody tr th {\n        vertical-align: top;\n    }\n\n    .dataframe thead th {\n        text-align: right;\n    }\n</style>\n<table border=\"1\" class=\"dataframe\">\n  <thead>\n    <tr style=\"text-align: right;\">\n      <th></th>\n      <th>0&lt;10</th>\n      <th>10&lt;20</th>\n      <th>20&lt;40</th>\n      <th>40&lt;60</th>\n      <th>60&lt;</th>\n      <th>District</th>\n    </tr>\n  </thead>\n  <tbody>\n    <tr>\n      <th>0</th>\n      <td>0.005302</td>\n      <td>0.005314</td>\n      <td>0.011611</td>\n      <td>0.009139</td>\n      <td>0.004934</td>\n      <td>Colombo</td>\n    </tr>\n    <tr>\n      <th>1</th>\n      <td>0.005595</td>\n      <td>0.005495</td>\n      <td>0.011526</td>\n      <td>0.009025</td>\n      <td>0.004660</td>\n      <td>Gampaha</td>\n    </tr>\n    <tr>\n      <th>2</th>\n      <td>0.006039</td>\n      <td>0.005483</td>\n      <td>0.010835</td>\n      <td>0.008792</td>\n      <td>0.005153</td>\n      <td>Kalutara</td>\n    </tr>\n    <tr>\n      <th>3</th>\n      <td>0.006264</td>\n      <td>0.005901</td>\n      <td>0.010220</td>\n      <td>0.009006</td>\n      <td>0.004910</td>\n      <td>Kandy</td>\n    </tr>\n    <tr>\n      <th>4</th>\n      <td>0.006501</td>\n      <td>0.005734</td>\n      <td>0.010433</td>\n      <td>0.009201</td>\n      <td>0.004431</td>\n      <td>Matale</td>\n    </tr>\n  </tbody>\n</table>\n</div>"
     },
     "metadata": {},
     "execution_count": 67
    }
   ],
   "source": [
    "age_count_df = pd.DataFrame(data=age_counts, columns=['0<10', '10<20', '20<40', '40<60', '60<'])\n",
    "age_count_df['District'] = age_df_1['District']\n",
    "age_count_df"
   ]
  },
  {
   "source": [
    "profession wise prediction"
   ],
   "cell_type": "markdown",
   "metadata": {}
  },
  {
   "cell_type": "code",
   "execution_count": 70,
   "metadata": {},
   "outputs": [
    {
     "output_type": "execute_result",
     "data": {
      "text/plain": [
       "Index(['District', 'employed_Total', 'unemployed_Total',\n",
       "       'unemployed_housework', 'unemployed_studies', 'unemployed_rest',\n",
       "       'employeed_service', 'employeed_agriculture', 'employeed_Industries'],\n",
       "      dtype='object')"
      ]
     },
     "metadata": {},
     "execution_count": 70
    }
   ],
   "source": [
    "emp_df_1 = pd.read_csv('../../../data/main_data/emp_dist.csv')\n",
    "emp_df_1.columns\n",
    "emp_df = emp_df_1.iloc[:, 1:]\n",
    "emp_value = emp_df.values"
   ]
  },
  {
   "cell_type": "code",
   "execution_count": 71,
   "metadata": {},
   "outputs": [
    {
     "output_type": "execute_result",
     "data": {
      "text/plain": [
       "   employed_Total  unemployed_Total  unemployed_housework  unemployed_studies  \\\n",
       "0            52.6              47.4               22.3728             10.0014   \n",
       "1            50.7              49.3               23.2696             10.4023   \n",
       "2            51.1              48.9               23.0808             10.3179   \n",
       "3            50.1              49.9               23.5528             10.5289   \n",
       "4            54.9              45.1               21.2872              9.5161   \n",
       "\n",
       "   unemployed_rest  employeed_service  employeed_agriculture  \\\n",
       "0          15.0258            24.7746                13.3078   \n",
       "1          15.6281            23.8797                12.8271   \n",
       "2          15.5013            24.0681                12.9283   \n",
       "3          15.8183            23.5971                12.6753   \n",
       "4          14.2967            25.8579                13.8897   \n",
       "\n",
       "   employeed_Industries  District  \n",
       "0               14.5176   Colombo  \n",
       "1               13.9932   Gampaha  \n",
       "2               14.1036  Kalutara  \n",
       "3               13.8276     Kandy  \n",
       "4               15.1524    Matale  "
      ],
      "text/html": "<div>\n<style scoped>\n    .dataframe tbody tr th:only-of-type {\n        vertical-align: middle;\n    }\n\n    .dataframe tbody tr th {\n        vertical-align: top;\n    }\n\n    .dataframe thead th {\n        text-align: right;\n    }\n</style>\n<table border=\"1\" class=\"dataframe\">\n  <thead>\n    <tr style=\"text-align: right;\">\n      <th></th>\n      <th>employed_Total</th>\n      <th>unemployed_Total</th>\n      <th>unemployed_housework</th>\n      <th>unemployed_studies</th>\n      <th>unemployed_rest</th>\n      <th>employeed_service</th>\n      <th>employeed_agriculture</th>\n      <th>employeed_Industries</th>\n      <th>District</th>\n    </tr>\n  </thead>\n  <tbody>\n    <tr>\n      <th>0</th>\n      <td>52.6</td>\n      <td>47.4</td>\n      <td>22.3728</td>\n      <td>10.0014</td>\n      <td>15.0258</td>\n      <td>24.7746</td>\n      <td>13.3078</td>\n      <td>14.5176</td>\n      <td>Colombo</td>\n    </tr>\n    <tr>\n      <th>1</th>\n      <td>50.7</td>\n      <td>49.3</td>\n      <td>23.2696</td>\n      <td>10.4023</td>\n      <td>15.6281</td>\n      <td>23.8797</td>\n      <td>12.8271</td>\n      <td>13.9932</td>\n      <td>Gampaha</td>\n    </tr>\n    <tr>\n      <th>2</th>\n      <td>51.1</td>\n      <td>48.9</td>\n      <td>23.0808</td>\n      <td>10.3179</td>\n      <td>15.5013</td>\n      <td>24.0681</td>\n      <td>12.9283</td>\n      <td>14.1036</td>\n      <td>Kalutara</td>\n    </tr>\n    <tr>\n      <th>3</th>\n      <td>50.1</td>\n      <td>49.9</td>\n      <td>23.5528</td>\n      <td>10.5289</td>\n      <td>15.8183</td>\n      <td>23.5971</td>\n      <td>12.6753</td>\n      <td>13.8276</td>\n      <td>Kandy</td>\n    </tr>\n    <tr>\n      <th>4</th>\n      <td>54.9</td>\n      <td>45.1</td>\n      <td>21.2872</td>\n      <td>9.5161</td>\n      <td>14.2967</td>\n      <td>25.8579</td>\n      <td>13.8897</td>\n      <td>15.1524</td>\n      <td>Matale</td>\n    </tr>\n  </tbody>\n</table>\n</div>"
     },
     "metadata": {},
     "execution_count": 71
    }
   ],
   "source": [
    "emp_count_df = pd.DataFrame(data=emp_value, columns=['employed_Total', 'unemployed_Total','unemployed_housework', 'unemployed_studies', 'unemployed_rest','employeed_service', 'employeed_agriculture', 'employeed_Industries'])\n",
    "emp_count_df['District'] = emp_df_1['District']\n",
    "emp_count_df"
   ]
  },
  {
   "cell_type": "code",
   "execution_count": null,
   "metadata": {},
   "outputs": [],
   "source": []
  }
 ]
}